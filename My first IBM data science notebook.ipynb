{
 "cells": [
  {
   "cell_type": "markdown",
   "metadata": {},
   "source": [
    "# My Jupyter Notebook on IBM Data Science Experience"
   ]
  },
  {
   "cell_type": "markdown",
   "metadata": {},
   "source": [
    "**Yashaswini V. Jadhav**  \n",
    "A budding Data Scientist"
   ]
  },
  {
   "cell_type": "markdown",
   "metadata": {},
   "source": [
    "_I'm interested in Data Science because it is a multi-disciplinary field that uses scientific methods, processes, algorithms and systems to extract knowledge and insights from structured and unstructured data. Data science is the same concept as data mining and big data: \"use the most powerful hardware, the most powerful programming systems, and the most efficient algorithms to solve problems\".  \n",
    "As an Electronics and Communication engineer, I am always excited to try to solve real-time problems and Data Science mainly deals with such challenges._"
   ]
  },
  {
   "cell_type": "markdown",
   "metadata": {},
   "source": [
    "###Code in cell 5 demonstrates value assignment to variables and a few mathematical operations using those variables."
   ]
  },
  {
   "cell_type": "code",
   "execution_count": null,
   "metadata": {},
   "outputs": [],
   "source": [
    "x=1\n",
    "y=2\n",
    "z=x+y\n",
    "z1=y-x\n",
    "z2=x*y\n",
    "z3=x/y\n",
    "print (\"Add=%d  Sub=%d  Mul=%d  Div=%f\"z,z1,z2,z3)"
   ]
  },
  {
   "cell_type": "markdown",
   "metadata": {},
   "source": [
    "---\n",
    "- bullet 1\n",
    "- bullet 2\n",
    "1. bullet 3\n",
    "2. bullet 4  \n",
    "This is how to insert a hyperlink [link 1][1] and\n",
    "another [link 2][2].\n",
    "[1]: https://www.edureka.co/blog/what-is-data-science/ \"Title\"\n",
    "[2]: https://www.quora.com/What-is-data-science \"Title\"\n",
    "> * Blocked Quotes "
   ]
  },
  {
   "cell_type": "code",
   "execution_count": null,
   "metadata": {},
   "outputs": [],
   "source": []
  }
 ],
 "metadata": {
  "kernelspec": {
   "display_name": "Python 3",
   "language": "python",
   "name": "python3"
  },
  "language_info": {
   "codemirror_mode": {
    "name": "ipython",
    "version": 3
   },
   "file_extension": ".py",
   "mimetype": "text/x-python",
   "name": "python",
   "nbconvert_exporter": "python",
   "pygments_lexer": "ipython3",
   "version": "3.6.7"
  }
 },
 "nbformat": 4,
 "nbformat_minor": 2
}
